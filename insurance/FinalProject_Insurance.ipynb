{
 "cells": [
  {
   "cell_type": "code",
   "execution_count": 218,
   "id": "129ae314",
   "metadata": {},
   "outputs": [],
   "source": [
    "#pip install matplotlib"
   ]
  },
  {
   "cell_type": "code",
   "execution_count": 219,
   "id": "16f98400",
   "metadata": {},
   "outputs": [],
   "source": [
    "#pip install scipy"
   ]
  },
  {
   "cell_type": "code",
   "execution_count": 220,
   "id": "e4e1b814",
   "metadata": {},
   "outputs": [],
   "source": [
    "import pandas as pd\n",
    "import numpy as np\n",
    "import matplotlib.pyplot as plt\n",
    "from scipy.stats import norm\n",
    "from scipy.stats import ttest_1samp"
   ]
  },
  {
   "cell_type": "code",
   "execution_count": 260,
   "id": "8970fdbf",
   "metadata": {},
   "outputs": [],
   "source": [
    "data_insurance = pd.read_csv(\"insurance.csv\")"
   ]
  },
  {
   "cell_type": "code",
   "execution_count": 222,
   "id": "110a15c0",
   "metadata": {
    "scrolled": true
   },
   "outputs": [
    {
     "data": {
      "text/html": [
       "<div>\n",
       "<style scoped>\n",
       "    .dataframe tbody tr th:only-of-type {\n",
       "        vertical-align: middle;\n",
       "    }\n",
       "\n",
       "    .dataframe tbody tr th {\n",
       "        vertical-align: top;\n",
       "    }\n",
       "\n",
       "    .dataframe thead th {\n",
       "        text-align: right;\n",
       "    }\n",
       "</style>\n",
       "<table border=\"1\" class=\"dataframe\">\n",
       "  <thead>\n",
       "    <tr style=\"text-align: right;\">\n",
       "      <th></th>\n",
       "      <th>age</th>\n",
       "      <th>sex</th>\n",
       "      <th>bmi</th>\n",
       "      <th>children</th>\n",
       "      <th>smoker</th>\n",
       "      <th>region</th>\n",
       "      <th>charges</th>\n",
       "    </tr>\n",
       "  </thead>\n",
       "  <tbody>\n",
       "    <tr>\n",
       "      <th>0</th>\n",
       "      <td>19</td>\n",
       "      <td>female</td>\n",
       "      <td>27.900</td>\n",
       "      <td>0</td>\n",
       "      <td>yes</td>\n",
       "      <td>southwest</td>\n",
       "      <td>16884.92400</td>\n",
       "    </tr>\n",
       "    <tr>\n",
       "      <th>1</th>\n",
       "      <td>18</td>\n",
       "      <td>male</td>\n",
       "      <td>33.770</td>\n",
       "      <td>1</td>\n",
       "      <td>no</td>\n",
       "      <td>southeast</td>\n",
       "      <td>1725.55230</td>\n",
       "    </tr>\n",
       "    <tr>\n",
       "      <th>2</th>\n",
       "      <td>28</td>\n",
       "      <td>male</td>\n",
       "      <td>33.000</td>\n",
       "      <td>3</td>\n",
       "      <td>no</td>\n",
       "      <td>southeast</td>\n",
       "      <td>4449.46200</td>\n",
       "    </tr>\n",
       "    <tr>\n",
       "      <th>3</th>\n",
       "      <td>33</td>\n",
       "      <td>male</td>\n",
       "      <td>22.705</td>\n",
       "      <td>0</td>\n",
       "      <td>no</td>\n",
       "      <td>northwest</td>\n",
       "      <td>21984.47061</td>\n",
       "    </tr>\n",
       "    <tr>\n",
       "      <th>4</th>\n",
       "      <td>32</td>\n",
       "      <td>male</td>\n",
       "      <td>28.880</td>\n",
       "      <td>0</td>\n",
       "      <td>no</td>\n",
       "      <td>northwest</td>\n",
       "      <td>3866.85520</td>\n",
       "    </tr>\n",
       "  </tbody>\n",
       "</table>\n",
       "</div>"
      ],
      "text/plain": [
       "   age     sex     bmi  children smoker     region      charges\n",
       "0   19  female  27.900         0    yes  southwest  16884.92400\n",
       "1   18    male  33.770         1     no  southeast   1725.55230\n",
       "2   28    male  33.000         3     no  southeast   4449.46200\n",
       "3   33    male  22.705         0     no  northwest  21984.47061\n",
       "4   32    male  28.880         0     no  northwest   3866.85520"
      ]
     },
     "execution_count": 222,
     "metadata": {},
     "output_type": "execute_result"
    }
   ],
   "source": [
    "data_insurance.head()"
   ]
  },
  {
   "cell_type": "markdown",
   "id": "99a37532",
   "metadata": {},
   "source": [
    "# Langkah 1 - Analisa Descriptive Statistic"
   ]
  },
  {
   "cell_type": "code",
   "execution_count": 272,
   "id": "1d754d0c",
   "metadata": {},
   "outputs": [
    {
     "data": {
      "text/html": [
       "<div>\n",
       "<style scoped>\n",
       "    .dataframe tbody tr th:only-of-type {\n",
       "        vertical-align: middle;\n",
       "    }\n",
       "\n",
       "    .dataframe tbody tr th {\n",
       "        vertical-align: top;\n",
       "    }\n",
       "\n",
       "    .dataframe thead th {\n",
       "        text-align: right;\n",
       "    }\n",
       "</style>\n",
       "<table border=\"1\" class=\"dataframe\">\n",
       "  <thead>\n",
       "    <tr style=\"text-align: right;\">\n",
       "      <th></th>\n",
       "      <th>age</th>\n",
       "      <th>sex</th>\n",
       "      <th>bmi</th>\n",
       "      <th>children</th>\n",
       "      <th>smoker</th>\n",
       "      <th>region</th>\n",
       "      <th>charges</th>\n",
       "    </tr>\n",
       "  </thead>\n",
       "  <tbody>\n",
       "    <tr>\n",
       "      <th>count</th>\n",
       "      <td>1338.000000</td>\n",
       "      <td>1338</td>\n",
       "      <td>1338.000000</td>\n",
       "      <td>1338.000000</td>\n",
       "      <td>1338</td>\n",
       "      <td>1338</td>\n",
       "      <td>1338.000000</td>\n",
       "    </tr>\n",
       "    <tr>\n",
       "      <th>unique</th>\n",
       "      <td>NaN</td>\n",
       "      <td>2</td>\n",
       "      <td>NaN</td>\n",
       "      <td>NaN</td>\n",
       "      <td>2</td>\n",
       "      <td>4</td>\n",
       "      <td>NaN</td>\n",
       "    </tr>\n",
       "    <tr>\n",
       "      <th>top</th>\n",
       "      <td>NaN</td>\n",
       "      <td>male</td>\n",
       "      <td>NaN</td>\n",
       "      <td>NaN</td>\n",
       "      <td>no</td>\n",
       "      <td>southeast</td>\n",
       "      <td>NaN</td>\n",
       "    </tr>\n",
       "    <tr>\n",
       "      <th>freq</th>\n",
       "      <td>NaN</td>\n",
       "      <td>676</td>\n",
       "      <td>NaN</td>\n",
       "      <td>NaN</td>\n",
       "      <td>1064</td>\n",
       "      <td>364</td>\n",
       "      <td>NaN</td>\n",
       "    </tr>\n",
       "    <tr>\n",
       "      <th>mean</th>\n",
       "      <td>39.207025</td>\n",
       "      <td>NaN</td>\n",
       "      <td>30.663397</td>\n",
       "      <td>1.094918</td>\n",
       "      <td>NaN</td>\n",
       "      <td>NaN</td>\n",
       "      <td>13270.422265</td>\n",
       "    </tr>\n",
       "    <tr>\n",
       "      <th>std</th>\n",
       "      <td>14.049960</td>\n",
       "      <td>NaN</td>\n",
       "      <td>6.098187</td>\n",
       "      <td>1.205493</td>\n",
       "      <td>NaN</td>\n",
       "      <td>NaN</td>\n",
       "      <td>12110.011237</td>\n",
       "    </tr>\n",
       "    <tr>\n",
       "      <th>min</th>\n",
       "      <td>18.000000</td>\n",
       "      <td>NaN</td>\n",
       "      <td>15.960000</td>\n",
       "      <td>0.000000</td>\n",
       "      <td>NaN</td>\n",
       "      <td>NaN</td>\n",
       "      <td>1121.873900</td>\n",
       "    </tr>\n",
       "    <tr>\n",
       "      <th>25%</th>\n",
       "      <td>27.000000</td>\n",
       "      <td>NaN</td>\n",
       "      <td>26.296250</td>\n",
       "      <td>0.000000</td>\n",
       "      <td>NaN</td>\n",
       "      <td>NaN</td>\n",
       "      <td>4740.287150</td>\n",
       "    </tr>\n",
       "    <tr>\n",
       "      <th>50%</th>\n",
       "      <td>39.000000</td>\n",
       "      <td>NaN</td>\n",
       "      <td>30.400000</td>\n",
       "      <td>1.000000</td>\n",
       "      <td>NaN</td>\n",
       "      <td>NaN</td>\n",
       "      <td>9382.033000</td>\n",
       "    </tr>\n",
       "    <tr>\n",
       "      <th>75%</th>\n",
       "      <td>51.000000</td>\n",
       "      <td>NaN</td>\n",
       "      <td>34.693750</td>\n",
       "      <td>2.000000</td>\n",
       "      <td>NaN</td>\n",
       "      <td>NaN</td>\n",
       "      <td>16639.912515</td>\n",
       "    </tr>\n",
       "    <tr>\n",
       "      <th>max</th>\n",
       "      <td>64.000000</td>\n",
       "      <td>NaN</td>\n",
       "      <td>53.130000</td>\n",
       "      <td>5.000000</td>\n",
       "      <td>NaN</td>\n",
       "      <td>NaN</td>\n",
       "      <td>63770.428010</td>\n",
       "    </tr>\n",
       "  </tbody>\n",
       "</table>\n",
       "</div>"
      ],
      "text/plain": [
       "                age   sex          bmi     children smoker     region  \\\n",
       "count   1338.000000  1338  1338.000000  1338.000000   1338       1338   \n",
       "unique          NaN     2          NaN          NaN      2          4   \n",
       "top             NaN  male          NaN          NaN     no  southeast   \n",
       "freq            NaN   676          NaN          NaN   1064        364   \n",
       "mean      39.207025   NaN    30.663397     1.094918    NaN        NaN   \n",
       "std       14.049960   NaN     6.098187     1.205493    NaN        NaN   \n",
       "min       18.000000   NaN    15.960000     0.000000    NaN        NaN   \n",
       "25%       27.000000   NaN    26.296250     0.000000    NaN        NaN   \n",
       "50%       39.000000   NaN    30.400000     1.000000    NaN        NaN   \n",
       "75%       51.000000   NaN    34.693750     2.000000    NaN        NaN   \n",
       "max       64.000000   NaN    53.130000     5.000000    NaN        NaN   \n",
       "\n",
       "             charges  \n",
       "count    1338.000000  \n",
       "unique           NaN  \n",
       "top              NaN  \n",
       "freq             NaN  \n",
       "mean    13270.422265  \n",
       "std     12110.011237  \n",
       "min      1121.873900  \n",
       "25%      4740.287150  \n",
       "50%      9382.033000  \n",
       "75%     16639.912515  \n",
       "max     63770.428010  "
      ]
     },
     "execution_count": 272,
     "metadata": {},
     "output_type": "execute_result"
    }
   ],
   "source": [
    "data_insurance.describe(include=\"all\")"
   ]
  },
  {
   "cell_type": "markdown",
   "id": "693b6f98",
   "metadata": {},
   "source": [
    "### Q1: Rata-rata umur pengguna"
   ]
  },
  {
   "cell_type": "code",
   "execution_count": 223,
   "id": "be13c54f",
   "metadata": {},
   "outputs": [
    {
     "name": "stdout",
     "output_type": "stream",
     "text": [
      "Rata-rata umur pengguna adalah 39.20702541106129\n"
     ]
    }
   ],
   "source": [
    "print(f'Rata-rata umur pengguna adalah {data_insurance[\"age\"].mean()}')"
   ]
  },
  {
   "cell_type": "markdown",
   "id": "4f9329c8",
   "metadata": {},
   "source": [
    "### Q2: Rata-rata BMI dari pengguna yang merokok"
   ]
  },
  {
   "cell_type": "code",
   "execution_count": 261,
   "id": "4d4deae2",
   "metadata": {},
   "outputs": [],
   "source": [
    "merokok = data_insurance[\"smoker\"]==\"yes\"\n",
    "data_merokok = data_insurance[merokok]"
   ]
  },
  {
   "cell_type": "code",
   "execution_count": 225,
   "id": "655d9995",
   "metadata": {},
   "outputs": [
    {
     "name": "stdout",
     "output_type": "stream",
     "text": [
      "Rata-rata BMI pengguna merokok adalah 30.70844890510949\n"
     ]
    }
   ],
   "source": [
    "print(f'Rata-rata BMI pengguna merokok adalah {data_merokok[\"bmi\"].mean()}')"
   ]
  },
  {
   "cell_type": "markdown",
   "id": "0d08a6ef",
   "metadata": {},
   "source": [
    "### Q6: Apakah rata rata umur perempuan dan laki-laki yang merokok sama?"
   ]
  },
  {
   "cell_type": "code",
   "execution_count": 262,
   "id": "98898ae5",
   "metadata": {},
   "outputs": [],
   "source": [
    "perempuan_merokok = data_merokok[\"sex\"]==\"female\"\n",
    "data_perempuan_merokok = data_merokok[perempuan_merokok]"
   ]
  },
  {
   "cell_type": "code",
   "execution_count": 227,
   "id": "b1028018",
   "metadata": {},
   "outputs": [
    {
     "name": "stdout",
     "output_type": "stream",
     "text": [
      "Rata-rata umur perempuan merokok adalah 38.608695652173914\n"
     ]
    }
   ],
   "source": [
    "print(f'Rata-rata umur perempuan merokok adalah {data_perempuan_merokok[\"age\"].mean()}')"
   ]
  },
  {
   "cell_type": "code",
   "execution_count": 263,
   "id": "7b724e9e",
   "metadata": {},
   "outputs": [],
   "source": [
    "laki_merokok = data_merokok[\"sex\"]==\"male\"\n",
    "data_laki_merokok = data_merokok[laki_merokok]"
   ]
  },
  {
   "cell_type": "code",
   "execution_count": 265,
   "id": "6018ba91",
   "metadata": {},
   "outputs": [
    {
     "name": "stdout",
     "output_type": "stream",
     "text": [
      "Rata-rata umur laki-laki merokok adalah 38.44654088050314\n"
     ]
    }
   ],
   "source": [
    "print(f'Rata-rata umur laki-laki merokok adalah {data_laki_merokok[\"age\"].mean()}')"
   ]
  },
  {
   "cell_type": "markdown",
   "id": "030139e8",
   "metadata": {},
   "source": [
    "### Q7: Mana yang lebih tinggi, rata rata tagihan kesehatan perokok atau non merokok?"
   ]
  },
  {
   "cell_type": "code",
   "execution_count": 264,
   "id": "5e134a8a",
   "metadata": {},
   "outputs": [],
   "source": [
    "non_merokok = data_insurance[\"smoker\"]==\"no\"\n",
    "data_non_merokok = data_insurance[non_merokok]"
   ]
  },
  {
   "cell_type": "code",
   "execution_count": 231,
   "id": "db065940",
   "metadata": {},
   "outputs": [
    {
     "name": "stdout",
     "output_type": "stream",
     "text": [
      "Rata-rata tagihan kesehatan perokok adalah 32050.23183153284\n",
      "Rata-rata tagihan kesehatan non perokok adalah 8434.268297856204\n"
     ]
    }
   ],
   "source": [
    "print(f'Rata-rata tagihan kesehatan perokok adalah {data_merokok[\"charges\"].mean()}')\n",
    "print(f'Rata-rata tagihan kesehatan non perokok adalah {data_non_merokok[\"charges\"].mean()}')"
   ]
  },
  {
   "cell_type": "markdown",
   "id": "43aa338c",
   "metadata": {},
   "source": [
    "### Q8: Mana yang lebih tinggi, rata rata tagihan kesehatan perokok yang BMI nya diatas 25 atau non perokok yang BMI nya diatas 25\n"
   ]
  },
  {
   "cell_type": "code",
   "execution_count": 232,
   "id": "f49012a5",
   "metadata": {},
   "outputs": [],
   "source": [
    "merokok_bmi25_l = data_merokok[\"bmi\"]>25\n",
    "data_merokok_bmi25_l = data_merokok[merokok_bmi25_l]\n",
    "non_merokok_bmi25_l = data_non_merokok[\"bmi\"]>25\n",
    "data_non_merokok_bmi25_l = data_non_merokok[non_merokok_bmi25_l]"
   ]
  },
  {
   "cell_type": "code",
   "execution_count": 235,
   "id": "384acc41",
   "metadata": {},
   "outputs": [
    {
     "name": "stdout",
     "output_type": "stream",
     "text": [
      "Rata-rata tagihan kesehatan perokok yang BMI nya di atas 25 adalah 35116.90965694064\n",
      "Rata-rata tagihan kesehatan non perokok yang BMI nya di atas 25 adalah 8629.589609712157\n"
     ]
    }
   ],
   "source": [
    "print(f'Rata-rata tagihan kesehatan perokok yang BMI nya di atas 25 adalah {data_merokok_bmi25_l[\"charges\"].mean()}')\n",
    "print(f'Rata-rata tagihan kesehatan non perokok yang BMI nya di atas 25 adalah {data_non_merokok_bmi25_l[\"charges\"].mean()}')"
   ]
  },
  {
   "cell_type": "markdown",
   "id": "9227b5ff",
   "metadata": {},
   "source": [
    "# Langkah 2 - Analisa Variabel Kategorik (PMF)"
   ]
  },
  {
   "cell_type": "markdown",
   "id": "3cf3e642",
   "metadata": {},
   "source": [
    "### Q1: Jumlah tagihan setiap gender"
   ]
  },
  {
   "cell_type": "code",
   "execution_count": 280,
   "id": "978bebd0",
   "metadata": {},
   "outputs": [
    {
     "name": "stdout",
     "output_type": "stream",
     "text": [
      "Jumlah tagihan laki-laki adalah 9434763.79614\n",
      "Jumlah tagihan perempuan adalah 8321061.194619\n"
     ]
    }
   ],
   "source": [
    "laki2 = data_insurance[\"sex\"]==\"male\"\n",
    "data_laki2 = data_insurance[laki2]\n",
    "print(f'Jumlah tagihan laki-laki adalah {data_laki2[\"charges\"].sum()}')\n",
    "perempuan = data_insurance[\"sex\"]==\"female\"\n",
    "data_perempuan = data_insurance[perempuan]\n",
    "print(f'Jumlah tagihan perempuan adalah {data_perempuan[\"charges\"].sum()}')"
   ]
  },
  {
   "cell_type": "markdown",
   "id": "ab13f881",
   "metadata": {},
   "source": [
    "### Q3: Proporsi banyak orang setiap region"
   ]
  },
  {
   "cell_type": "code",
   "execution_count": 237,
   "id": "53ecebb7",
   "metadata": {},
   "outputs": [
    {
     "name": "stdout",
     "output_type": "stream",
     "text": [
      "Jumlah orang di region Northeast adalah 324\n",
      "Jumlah orang di region Southeast adalah 364\n",
      "Jumlah orang di region Northwest adalah 325\n",
      "Jumlah orang di region Southwest adalah 325\n"
     ]
    }
   ],
   "source": [
    "northeast = data_insurance[\"region\"]==\"northeast\"\n",
    "southeast = data_insurance[\"region\"]==\"southeast\"\n",
    "northwest = data_insurance[\"region\"]==\"northwest\"\n",
    "southwest = data_insurance[\"region\"]==\"southwest\"\n",
    "print(f'Jumlah orang di region Northeast adalah {len(data_insurance[northeast])}')\n",
    "print(f'Jumlah orang di region Southeast adalah {len(data_insurance[southeast])}')\n",
    "print(f'Jumlah orang di region Northwest adalah {len(data_insurance[northwest])}')\n",
    "print(f'Jumlah orang di region Southwest adalah {len(data_insurance[southwest])}')"
   ]
  },
  {
   "cell_type": "code",
   "execution_count": 238,
   "id": "b9db414b",
   "metadata": {
    "scrolled": true
   },
   "outputs": [
    {
     "name": "stdout",
     "output_type": "stream",
     "text": [
      "Proporsi jumlah orang di region Northeast adalah 0.242152466367713\n",
      "Proporsi jumlah orang di region Southeast adalah 0.27204783258594917\n",
      "Proporsi jumlah orang di region Northwest adalah 0.2428998505231689\n",
      "Proporsi jumlah orang di region Southwest adalah 0.2428998505231689\n"
     ]
    }
   ],
   "source": [
    "print(f'Proporsi jumlah orang di region Northeast adalah {len(data_insurance[northeast])/len(data_insurance)}')\n",
    "print(f'Proporsi jumlah orang di region Southeast adalah {len(data_insurance[southeast])/len(data_insurance)}')\n",
    "print(f'Proporsi jumlah orang di region Northwest adalah {len(data_insurance[northwest])/len(data_insurance)}')\n",
    "print(f'Proporsi jumlah orang di region Southwest adalah {len(data_insurance[southwest])/len(data_insurance)}')"
   ]
  },
  {
   "cell_type": "markdown",
   "id": "546bb01b",
   "metadata": {},
   "source": [
    "### Q4: Proporsi perokok dan non perokok"
   ]
  },
  {
   "cell_type": "code",
   "execution_count": 239,
   "id": "85d62971",
   "metadata": {},
   "outputs": [
    {
     "name": "stdout",
     "output_type": "stream",
     "text": [
      "Proporsi jumlah orang merokok adalah 0.20478325859491778\n",
      "Proporsi jumlah orang non merokok adalah 0.7952167414050823\n"
     ]
    }
   ],
   "source": [
    "print(f'Proporsi jumlah orang merokok adalah {len(data_insurance[merokok])/len(data_insurance)}')\n",
    "print(f'Proporsi jumlah orang non merokok adalah {len(data_insurance[non_merokok])/len(data_insurance)}')"
   ]
  },
  {
   "cell_type": "markdown",
   "id": "fc83bc70",
   "metadata": {},
   "source": [
    "### Q5: Peluang seseorang adalah perempuan jika diketahui dia adalah perokok"
   ]
  },
  {
   "cell_type": "code",
   "execution_count": 240,
   "id": "35391c39",
   "metadata": {},
   "outputs": [
    {
     "name": "stdout",
     "output_type": "stream",
     "text": [
      "Peluang seseorang tersebut adalah perempuan jika diketahui dia adalah perokok sebesar 0.4197080291970803\n"
     ]
    }
   ],
   "source": [
    "p_perempuan_jika_perokok = len(data_perempuan_merokok)/len(data_merokok)\n",
    "print(f'Peluang seseorang tersebut adalah perempuan jika diketahui dia adalah perokok sebesar {p_perempuan_jika_perokok}')"
   ]
  },
  {
   "cell_type": "markdown",
   "id": "d146d072",
   "metadata": {},
   "source": [
    "### Q6: Peluang seseorang adalah laki-laki jika diketahui dia adalah perokok"
   ]
  },
  {
   "cell_type": "code",
   "execution_count": 278,
   "id": "ba11d24c",
   "metadata": {},
   "outputs": [
    {
     "name": "stdout",
     "output_type": "stream",
     "text": [
      "Peluang seseorang tersebut adalah laki-laki jika diketahui dia adalah perokok sebesar 0.5802919708029197\n"
     ]
    }
   ],
   "source": [
    "p_laki_jika_perokok = len(data_laki_merokok)/len(data_merokok)\n",
    "print(f'Peluang seseorang tersebut adalah laki-laki jika diketahui dia adalah perokok sebesar {p_laki_jika_perokok}')"
   ]
  },
  {
   "cell_type": "markdown",
   "id": "856b8e20",
   "metadata": {},
   "source": [
    "# Langkah 3 - Analisa Variabel Kontinu (CDF)"
   ]
  },
  {
   "cell_type": "code",
   "execution_count": 242,
   "id": "668c291c",
   "metadata": {},
   "outputs": [],
   "source": [
    "# Data dengan BMI > 25\n",
    "bmi25_l = data_insurance[\"bmi\"]>25\n",
    "data_bmi25_l = data_insurance[bmi25_l]\n",
    "\n",
    "# Data dengan BMI <= 25\n",
    "bmi25_s = data_insurance[\"bmi\"]<=25\n",
    "data_bmi25_s = data_insurance[bmi25_s]\n",
    "\n",
    "# Data dengan besar tagihan > 16700\n",
    "charges16k_l = data_insurance[\"charges\"]>16700\n",
    "data_charges16k_l = data_insurance[charges16k_l]\n",
    "\n",
    "# Data dengan besar tagihan <= 16700\n",
    "charges16k_s = data_insurance[\"charges\"]<=16700\n",
    "data_charges16k_s = data_insurance[charges16k_s]\n",
    "\n",
    "# Data dengan BMI > 25 dan besar tagihan > 16700\n",
    "bmi25_l_charges16k_l = bmi25_l & charges16k_l\n",
    "data_bmi25_l_charges16k_l = data_insurance[bmi25_l_charges16k_l]\n",
    "\n",
    "# Data dengan BMI > 25 dan besar tagihan <= 16700\n",
    "bmi25_l_charges16k_s = bmi25_l & charges16k_s\n",
    "data_bmi25_l_charges16k_s = data_insurance[bmi25_l_charges16k_s]\n",
    "\n",
    "# Data dengan BMI <= 25 dan besar tagihan > 16700\n",
    "bmi25_s_charges16k_l = bmi25_s & charges16k_l\n",
    "data_bmi25_s_charges16k_l = data_insurance[bmi25_s_charges16k_l]\n",
    "\n",
    "# Data dengan BMI <= 25 dan besar tagihan <= 16700\n",
    "bmi25_s_charges16k_s = bmi25_s & charges16k_s\n",
    "data_bmi25_s_charges16k_s = data_insurance[bmi25_s_charges16k_s]"
   ]
  },
  {
   "cell_type": "markdown",
   "id": "5db83662",
   "metadata": {},
   "source": [
    "### Q1: Mencari peluang besar tagihan berdasarkan BMI"
   ]
  },
  {
   "cell_type": "code",
   "execution_count": 243,
   "id": "c11a4858",
   "metadata": {},
   "outputs": [
    {
     "name": "stdout",
     "output_type": "stream",
     "text": [
      "Peluang besar tagihan > 16.700 jika BMI > 25 adalah 0.25939505041246563\n",
      "Peluang besar tagihan <= 16.700 jika BMI > 25 adalah 0.7406049495875344\n",
      "Peluang besar tagihan > 16.700 jika BMI <= 25 adalah 0.20647773279352227\n",
      "Peluang besar tagihan <= 16.700 jika BMI <= 25 adalah 0.7935222672064778\n"
     ]
    }
   ],
   "source": [
    "p_bmi25_l = len(data_bmi25_l)/len(data_insurance)\n",
    "p_bmi25_s = len(data_bmi25_s)/len(data_insurance)\n",
    "p_charges16k_l = len(data_charges16k_l)/len(data_insurance)\n",
    "p_charges16k_s = len(data_charges16k_s)/len(data_insurance)\n",
    "\n",
    "# Peluang besar tagihan > 16.700 jika BMI > 25\n",
    "p_charges16k_l_jika_bmi25_l = len(data_bmi25_l_charges16k_l) / len(data_bmi25_l)\n",
    "print(f'Peluang besar tagihan > 16.700 jika BMI > 25 adalah {p_charges16k_l_jika_bmi25_l}')\n",
    "\n",
    "# Peluang besar tagihan <= 16.700 jika BMI > 25\n",
    "p_charges16k_s_jika_bmi25_l = len(data_bmi25_l_charges16k_s) / len(data_bmi25_l)\n",
    "print(f'Peluang besar tagihan <= 16.700 jika BMI > 25 adalah {p_charges16k_s_jika_bmi25_l}')\n",
    "\n",
    "# Peluang besar tagihan > 16.700 jika BMI <= 25\n",
    "p_charges16k_l_jika_bmi25_s = len(data_bmi25_s_charges16k_l) / len(data_bmi25_s)\n",
    "print(f'Peluang besar tagihan > 16.700 jika BMI <= 25 adalah {p_charges16k_l_jika_bmi25_s}')\n",
    "\n",
    "# Peluang besar tagihan <= 16.700 jika BMI <= 25\n",
    "p_charges16k_s_jika_bmi25_s = len(data_bmi25_s_charges16k_s) / len(data_bmi25_s)\n",
    "print(f'Peluang besar tagihan <= 16.700 jika BMI <= 25 adalah {p_charges16k_s_jika_bmi25_s}')"
   ]
  },
  {
   "cell_type": "markdown",
   "id": "7d029a2a",
   "metadata": {},
   "source": [
    "### Q2: Mencari kemungkin terjadi, seorang perokok dengan BMI diatas 25 akan mendapatkan tagihan kesehatan di atas 16.700\n"
   ]
  },
  {
   "cell_type": "code",
   "execution_count": 244,
   "id": "ccb679b5",
   "metadata": {},
   "outputs": [
    {
     "name": "stdout",
     "output_type": "stream",
     "text": [
      "Peluang besar tagihan > 16.700 jika diketahui perokok dengan BMI > 25 adalah 0.9817351598173516\n"
     ]
    }
   ],
   "source": [
    "# Data perokok dengan BMI > 25 dan besar tagihan > 16700\n",
    "merokok_bmi25_l_charges16k_l = merokok_bmi25_l & charges16k_l\n",
    "data_merokok_bmi25_l_charges16k_l = data_insurance[merokok_bmi25_l_charges16k_l]\n",
    "\n",
    "# Peluang besar tagihan > 16.700 jika diketahui perokok dengan BMI > 25\n",
    "p_charges16k_l_jika_merokok_bmi25_l = len(data_merokok_bmi25_l_charges16k_l) / len(data_merokok_bmi25_l)\n",
    "print(f'Peluang besar tagihan > 16.700 jika diketahui perokok dengan BMI > 25 adalah {p_charges16k_l_jika_merokok_bmi25_l}')"
   ]
  },
  {
   "cell_type": "markdown",
   "id": "3c4a7af2",
   "metadata": {},
   "source": [
    "### Q3: Berapa peluang seseorang acak tagihan kesehatannya diatas 16.7k diketahui dia adalah perokok"
   ]
  },
  {
   "cell_type": "code",
   "execution_count": 245,
   "id": "7d80f598",
   "metadata": {},
   "outputs": [
    {
     "name": "stdout",
     "output_type": "stream",
     "text": [
      "Peluang tagihan kesehatan > 16.700 jika diketahui merokok adalah 0.927007299270073\n"
     ]
    }
   ],
   "source": [
    "# Data perokok dan besar tagihan > 16700\n",
    "merokok_charges16k_l = merokok & charges16k_l\n",
    "data_merokok_charges16k_l = data_insurance[merokok_charges16k_l]\n",
    "\n",
    "# Peluang tagihan kesehatan > 16700 jika diketahui merokok\n",
    "p_charges16k_l_jika_merokok = len(data_merokok_charges16k_l) / len(data_merokok)\n",
    "print(f'Peluang tagihan kesehatan > 16.700 jika diketahui merokok adalah {p_charges16k_l_jika_merokok}')"
   ]
  },
  {
   "cell_type": "markdown",
   "id": "1f8bf0b3",
   "metadata": {},
   "source": [
    "### Q4: Mana yang lebih mungkin terjadi\n",
    "### a. Seseorang dengan BMI diatas 25 mendapatkan tagihan kesehatan diatas 16.7k, atau\n",
    "### b. Seseorang dengan BMI dibawah 25 mendapatkan tagihan kesehatan diatas 16.7k"
   ]
  },
  {
   "cell_type": "code",
   "execution_count": 246,
   "id": "58612c38",
   "metadata": {},
   "outputs": [
    {
     "name": "stdout",
     "output_type": "stream",
     "text": [
      "Peluang besar tagihan > 16.700 jika BMI > 25 adalah 0.25939505041246563\n",
      "Peluang besar tagihan > 16.700 jika BMI <= 25 adalah 0.20647773279352227\n",
      "Karena peluang besar tagihan > 16.700 jika BMI > 25 LEBIH BESAR dari peluang besar tagihan > 16.700 jika BMI <= 25,\n",
      " maka yang lebih mungkin terjadi adalah \"a. Seseorang dengan BMI diatas 25 mendapatkan tagihan kesehatan diatas 16.7k\"\n"
     ]
    }
   ],
   "source": [
    "# Peluang besar tagihan > 16.700 jika BMI > 25\n",
    "print(f'Peluang besar tagihan > 16.700 jika BMI > 25 adalah {p_charges16k_l_jika_bmi25_l}')\n",
    "\n",
    "# Peluang besar tagihan > 16.700 jika BMI <= 25\n",
    "print(f'Peluang besar tagihan > 16.700 jika BMI <= 25 adalah {p_charges16k_l_jika_bmi25_s}')\n",
    "\n",
    "print('Karena peluang besar tagihan > 16.700 jika BMI > 25 LEBIH BESAR dari peluang besar tagihan > 16.700 jika BMI <= 25,\\n maka yang lebih mungkin terjadi adalah \"a. Seseorang dengan BMI diatas 25 mendapatkan tagihan kesehatan diatas 16.7k\"')"
   ]
  },
  {
   "cell_type": "markdown",
   "id": "c832d0c4",
   "metadata": {},
   "source": [
    "### Q5: Mana yang lebih mungkin terjadi\n",
    "### a. Seseorang perokok dengan BMI diatas 25 mendapatkan tagihan kesehatan diatas 16.7k, atau\n",
    "### b. Seseorang non perokok dengan BMI diatas 25 mendapatkan tagihan kesehatan diatas 16.7k"
   ]
  },
  {
   "cell_type": "code",
   "execution_count": 247,
   "id": "3db855da",
   "metadata": {},
   "outputs": [
    {
     "name": "stdout",
     "output_type": "stream",
     "text": [
      "Peluang besar tagihan > 16.700 jika diketahui perokok dengan BMI > 25 adalah 0.9817351598173516\n",
      "Peluang besar tagihan > 16.700 jika diketahui non perokok dengan BMI > 25 adalah 0.0779816513761468\n",
      "Karena besar tagihan > 16.700 jika diketahui perokok dengan BMI > 25 LEBIH BESAR dari peluang besar tagihan > 16.700 jika diketahui non perokok dengan BMI > 25, maka yang lebih mungkin terjadi adalah \"a. Seseorang perokok dengan BMI diatas 25 mendapatkan tagihan kesehatan diatas 16.7k\"\n"
     ]
    }
   ],
   "source": [
    "# Peluang besar tagihan > 16.700 jika diketahui perokok dengan BMI > 25 *lihat Q2\n",
    "print(f'Peluang besar tagihan > 16.700 jika diketahui perokok dengan BMI > 25 adalah {p_charges16k_l_jika_merokok_bmi25_l}')\n",
    "\n",
    "# Data non perokok dengan BMI > 25 dan besar tagihan > 16700\n",
    "non_merokok_bmi25_l_charges16k_l = non_merokok_bmi25_l & charges16k_l\n",
    "data_non_merokok_bmi25_l_charges16k_l = data_insurance[non_merokok_bmi25_l_charges16k_l]\n",
    "\n",
    "# Peluang besar tagihan > 16.700 jika diketahui non perokok dengan BMI > 25\n",
    "p_charges16k_l_jika_non_merokok_bmi25_l = len(data_non_merokok_bmi25_l_charges16k_l) / len(data_non_merokok_bmi25_l)\n",
    "print(f'Peluang besar tagihan > 16.700 jika diketahui non perokok dengan BMI > 25 adalah {p_charges16k_l_jika_non_merokok_bmi25_l}')\n",
    "print('Karena besar tagihan > 16.700 jika diketahui perokok dengan BMI > 25 LEBIH BESAR dari peluang besar tagihan > 16.700 jika diketahui non perokok dengan BMI > 25, maka yang lebih mungkin terjadi adalah \"a. Seseorang perokok dengan BMI diatas 25 mendapatkan tagihan kesehatan diatas 16.7k\"')"
   ]
  },
  {
   "cell_type": "code",
   "execution_count": null,
   "id": "5ad4ccb5",
   "metadata": {},
   "outputs": [],
   "source": []
  },
  {
   "cell_type": "markdown",
   "id": "becaf090",
   "metadata": {},
   "source": [
    "# Langkah 4 - Analisa Korelasi Variabel"
   ]
  },
  {
   "cell_type": "markdown",
   "id": "a8940e2b",
   "metadata": {},
   "source": [
    "### Korelasi antara variabel"
   ]
  },
  {
   "cell_type": "code",
   "execution_count": 248,
   "id": "01489a18",
   "metadata": {},
   "outputs": [
    {
     "name": "stdout",
     "output_type": "stream",
     "text": [
      "                 age       bmi  children   charges   sex_int  smoker_int\n",
      "age         1.000000  0.109272  0.042469  0.299008 -0.020856   -0.025019\n",
      "bmi         0.109272  1.000000  0.012759  0.198341  0.046371    0.003750\n",
      "children    0.042469  0.012759  1.000000  0.067998  0.017163    0.007673\n",
      "charges     0.299008  0.198341  0.067998  1.000000  0.057292    0.787251\n",
      "sex_int    -0.020856  0.046371  0.017163  0.057292  1.000000    0.076185\n",
      "smoker_int -0.025019  0.003750  0.007673  0.787251  0.076185    1.000000\n"
     ]
    }
   ],
   "source": [
    "# Buat salinan dataset  \n",
    "data_insurance_copy = data_insurance\n",
    "\n",
    "# Menambah kolom sex_int dan smoker_int sebagai pengganti data kategorikal menjadi data numerik,\n",
    "# agar bisa mendapat nilai korelasi menggunakan corr()\n",
    "\n",
    "data_insurance_copy.loc[data_insurance_copy[\"sex\"] == \"male\", \"sex_int\"] = 1\n",
    "data_insurance_copy.loc[data_insurance_copy[\"sex\"] == \"female\", \"sex_int\"] = 0\n",
    "data_insurance_copy.loc[data_insurance_copy[\"smoker\"] == \"yes\", \"smoker_int\"] = 1\n",
    "data_insurance_copy.loc[data_insurance_copy[\"smoker\"] == \"no\", \"smoker_int\"] = 0\n",
    "\n",
    "data_insurance_copy.head()\n",
    "\n",
    "corr = data_insurance_copy.corr()\n",
    "print(corr)"
   ]
  },
  {
   "cell_type": "markdown",
   "id": "611713b4",
   "metadata": {},
   "source": [
    "### Membandingkan nilai korelasi antara variabel charges dengan variabel lain di matrix tersebut "
   ]
  },
  {
   "cell_type": "code",
   "execution_count": 249,
   "id": "77c94fa7",
   "metadata": {},
   "outputs": [
    {
     "name": "stdout",
     "output_type": "stream",
     "text": [
      "age           0.299008\n",
      "bmi           0.198341\n",
      "children      0.067998\n",
      "charges       1.000000\n",
      "sex_int       0.057292\n",
      "smoker_int    0.787251\n",
      "Name: charges, dtype: float64\n",
      "Kondisi orang merokok atau tidak merokok memiliki korelasi paling tinggi terhadap besar tagihan, diikuti jenis kelamin dan nilai BMI\n"
     ]
    }
   ],
   "source": [
    "print(corr[\"charges\"])\n",
    "print(\"Kondisi orang merokok atau tidak merokok memiliki korelasi paling tinggi terhadap besar tagihan, diikuti jenis kelamin dan nilai BMI\")"
   ]
  },
  {
   "cell_type": "markdown",
   "id": "80aedc3f",
   "metadata": {},
   "source": [
    "# Langkah 5 - Pengujian Hipotesis"
   ]
  },
  {
   "cell_type": "markdown",
   "id": "aafaed83",
   "metadata": {},
   "source": [
    "### Q1.1: Tagihan kesehatan perokok lebih tinggi daripada tagihan kesehatan non perokok"
   ]
  },
  {
   "cell_type": "code",
   "execution_count": 250,
   "id": "e9bdd8da",
   "metadata": {},
   "outputs": [],
   "source": [
    "# Menentukan hipotesis dan pilih tingkat signifikansi\n",
    "# H0 : tagihan kesehatan perokok > rata-rata tagihan kesehatan non perokok\n",
    "# H1 : tagihan kesehatan perokok <= rata-rata tagihan kesehatan non perokok\n",
    "alpha = 0.05"
   ]
  },
  {
   "cell_type": "code",
   "execution_count": 251,
   "id": "9d880212",
   "metadata": {},
   "outputs": [
    {
     "name": "stdout",
     "output_type": "stream",
     "text": [
      "P-value menggunakan : 1.0\n"
     ]
    }
   ],
   "source": [
    "stat, pvalue = ttest_1samp(a=data_merokok[\"charges\"], popmean=data_non_merokok[\"charges\"].mean(), alternative=\"less\")\n",
    "print(f\"P-value menggunakan : {round(pvalue,3)}\")"
   ]
  },
  {
   "cell_type": "code",
   "execution_count": 268,
   "id": "da31a5de",
   "metadata": {},
   "outputs": [
    {
     "name": "stdout",
     "output_type": "stream",
     "text": [
      "Pengambilan Keputusan\n",
      "Gagal tolak H0\n",
      "Disimpulkan tagihan kesehatan perokok > rata-rata tagihan kesehatan non perokok, \n",
      " yang artinya kalim \"Tagihan kesehatan perokok lebih tinggi daripada tagihan kesehatan non perokok\" dapat diterima\n"
     ]
    }
   ],
   "source": [
    "print('Pengambilan Keputusan')\n",
    "# jika p-value > alpha, maka :\n",
    "if pvalue > alpha:\n",
    "    print('Gagal tolak H0')\n",
    "    print('Disimpulkan tagihan kesehatan perokok > rata-rata tagihan kesehatan non perokok, \\n yang artinya kalim \"Tagihan kesehatan perokok lebih tinggi daripada tagihan kesehatan non perokok\" dapat diterima')\n",
    "# jika p-value <= alpha, maka :\n",
    "else:\n",
    "    print('Tolak H0')\n",
    "    print('Disimpulkan tagihan kesehatan perokok <= rata-rata tagihan kesehatan non perokok, \\n yang artinya kalim \"Tagihan kesehatan perokok lebih tinggi daripada tagihan kesehatan non perokok\" tidak dapat diterima')"
   ]
  },
  {
   "cell_type": "markdown",
   "id": "98db39ab",
   "metadata": {},
   "source": [
    "### Q1.2: Tagihan kesehatan dengan BMI diatas 25 lebih tinggi daripada tagihan kesehatan dengan BMI dibawah 25"
   ]
  },
  {
   "cell_type": "code",
   "execution_count": 253,
   "id": "7750f849",
   "metadata": {},
   "outputs": [],
   "source": [
    "# Menentukan hipotesis dan pilih tingkat signifikansi\n",
    "# H0 : tagihan kesehatan seseorang dengan BMI diatas 25 > rata-rata tagihan kesehatan seseorang dengan BMI dibawah 25\n",
    "# H1 : tagihan kesehatan seseorang dengan BMI diatas 25 <= rata-rata tagihan kesehatan seseorang dengan BMI dibawah 25\n",
    "alpha1 = 0.05"
   ]
  },
  {
   "cell_type": "code",
   "execution_count": 254,
   "id": "c85d480d",
   "metadata": {},
   "outputs": [
    {
     "name": "stdout",
     "output_type": "stream",
     "text": [
      "P-value menggunakan : 1.0\n"
     ]
    }
   ],
   "source": [
    "stat1, pvalue1 = ttest_1samp(a=data_bmi25_l[\"charges\"], popmean=data_bmi25_s[\"charges\"].mean(), alternative=\"less\")\n",
    "print(f\"P-value menggunakan : {round(pvalue1,3)}\")"
   ]
  },
  {
   "cell_type": "code",
   "execution_count": 269,
   "id": "ad3d4703",
   "metadata": {},
   "outputs": [
    {
     "name": "stdout",
     "output_type": "stream",
     "text": [
      "Pengambilan Keputusan\n",
      "Gagal tolak H0\n",
      "Disimpulkan tagihan kesehatan seseorang dengan BMI diatas 25 > rata-rata tagihan kesehatan seseorang dengan BMI dibawah 25, \n",
      " yang artinya kalim \"Tagihan kesehatan dengan BMI diatas 25 lebih tinggi daripada tagihan kesehatan dengan BMI dibawah 25\" dapat diterima\n"
     ]
    }
   ],
   "source": [
    "print('Pengambilan Keputusan')\n",
    "# jika p-value > alpha, maka :\n",
    "if pvalue1 > alpha1:\n",
    "    print('Gagal tolak H0')\n",
    "    print('Disimpulkan tagihan kesehatan seseorang dengan BMI diatas 25 > rata-rata tagihan kesehatan seseorang dengan BMI dibawah 25, \\n yang artinya kalim \"Tagihan kesehatan dengan BMI diatas 25 lebih tinggi daripada tagihan kesehatan dengan BMI dibawah 25\" dapat diterima')\n",
    "# jika p-value <= alpha, maka :\n",
    "else:\n",
    "    print('Tolak H0')\n",
    "    print('Disimpulkan tagihan kesehatan seseorang dengan BMI diatas 25 <= rata-rata tagihan kesehatan seseorang dengan BMI dibawah 25, \\n yang artinya kalim \"Tagihan kesehatan dengan BMI diatas 25 lebih tinggi daripada tagihan kesehatan dengan BMI dibawah 25\" tidak dapat diterima')"
   ]
  },
  {
   "cell_type": "markdown",
   "id": "a9055548",
   "metadata": {},
   "source": [
    "### Q2.1: BMI laki-laki dan perempuan sama"
   ]
  },
  {
   "cell_type": "code",
   "execution_count": 256,
   "id": "aba118ee",
   "metadata": {},
   "outputs": [],
   "source": [
    "# Menentukan hipotesis dan pilih tingkat signifikansi\n",
    "# H0 : BMI laki-laki = rata-rata BMI perempuan\n",
    "# H1 : BMI laki != rata-rata BMI perempuan\n",
    "alpha2 = 0.05"
   ]
  },
  {
   "cell_type": "code",
   "execution_count": 270,
   "id": "9e90595f",
   "metadata": {},
   "outputs": [
    {
     "name": "stdout",
     "output_type": "stream",
     "text": [
      "P-value menggunakan : 0.017\n"
     ]
    }
   ],
   "source": [
    "# Filter dataset Laki-laki dan Perempuan\n",
    "male = data_insurance[\"sex\"]==\"male\"\n",
    "data_male = data_insurance[male]\n",
    "female = data_insurance[\"sex\"]==\"female\"\n",
    "data_female = data_insurance[female]\n",
    "\n",
    "stat2, pvalue2 = ttest_1samp(a=data_male[\"bmi\"], popmean=data_female[\"bmi\"].mean(), alternative=\"two-sided\")\n",
    "print(f\"P-value menggunakan : {round(pvalue2,3)}\")"
   ]
  },
  {
   "cell_type": "code",
   "execution_count": 258,
   "id": "5b5be126",
   "metadata": {},
   "outputs": [
    {
     "name": "stdout",
     "output_type": "stream",
     "text": [
      "Pengambilan Keputusan\n",
      "Tolak H0\n",
      "Disimpulkan BMI laki-laki != rata-rata BMI perempuan, \n",
      " yang artinya kalim \"BMI laki-laki dan perempuan sama\" tidak dapat diterima\n"
     ]
    }
   ],
   "source": [
    "print('Pengambilan Keputusan')\n",
    "# jika p-value > alpha, maka :\n",
    "if pvalue2 > alpha2:\n",
    "    print('Gagal tolak H0')\n",
    "    print('Disimpulkan BMI laki-laki = rata-rata BMI perempuan, \\n yang artinya kalim \"BMI laki-laki dan perempuan sama\" dapat diterima')\n",
    "# jika p-value <= alpha, maka :\n",
    "else:\n",
    "    print('Tolak H0')\n",
    "    print('Disimpulkan BMI laki-laki != rata-rata BMI perempuan, \\n yang artinya kalim \"BMI laki-laki dan perempuan sama\" tidak dapat diterima')"
   ]
  }
 ],
 "metadata": {
  "kernelspec": {
   "display_name": "Python 3 (ipykernel)",
   "language": "python",
   "name": "python3"
  },
  "language_info": {
   "codemirror_mode": {
    "name": "ipython",
    "version": 3
   },
   "file_extension": ".py",
   "mimetype": "text/x-python",
   "name": "python",
   "nbconvert_exporter": "python",
   "pygments_lexer": "ipython3",
   "version": "3.10.5"
  }
 },
 "nbformat": 4,
 "nbformat_minor": 5
}
